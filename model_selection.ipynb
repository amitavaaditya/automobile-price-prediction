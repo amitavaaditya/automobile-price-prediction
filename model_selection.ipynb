{
 "cells": [
  {
   "cell_type": "markdown",
   "metadata": {},
   "source": [
    "# Exploratory Data Analysis"
   ]
  },
  {
   "cell_type": "markdown",
   "metadata": {},
   "source": [
    "### Import necessary packages"
   ]
  },
  {
   "cell_type": "code",
   "execution_count": 1,
   "metadata": {},
   "outputs": [],
   "source": [
    "import warnings\n",
    "warnings.filterwarnings('ignore')"
   ]
  },
  {
   "cell_type": "code",
   "execution_count": 1,
   "metadata": {},
   "outputs": [],
   "source": [
    "import numpy as np\n",
    "import pandas as pd\n",
    "from scipy.stats import skew\n",
    "from sklearn.model_selection import train_test_split, GridSearchCV\n",
    "from sklearn.pipeline import Pipeline\n",
    "from sklearn.preprocessing import StandardScaler, PolynomialFeatures\n",
    "from sklearn.decomposition import PCA\n",
    "from sklearn.linear_model import Ridge\n",
    "from sklearn.svm import SVR\n",
    "from sklearn.ensemble import RandomForestRegressor\n",
    "from xgboost import XGBRegressor\n",
    "from sklearn.metrics import r2_score"
   ]
  },
  {
   "cell_type": "markdown",
   "metadata": {},
   "source": [
    "### Read and preprocess dataset"
   ]
  },
  {
   "cell_type": "code",
   "execution_count": 2,
   "metadata": {},
   "outputs": [],
   "source": [
    "def preprocess(df):\n",
    "    features_df = pd.DataFrame()\n",
    "    target_ser = pd.Series()\n",
    "    df.dropna(subset=['price'], axis='index', inplace=True)\n",
    "    numeric_cols_to_use = ['engine-size', 'curb-weight', 'highway-mpg', 'horsepower', 'width',\n",
    "       'length', 'normalized-losses', 'compression-ratio', 'city-mpg',\n",
    "       'wheel-base', 'peak-rpm', 'height', 'stroke', 'bore']\n",
    "    categorical_cols_to_use = ['make_bmw']\n",
    "    for col in numeric_cols_to_use:\n",
    "        if skew(np.abs(df[col]) > 1.0):\n",
    "            features_df[col] = np.log(1 + df[col])\n",
    "        else:\n",
    "            features_df[col] = df[col]\n",
    "    features_df.fillna(features_df.median(), inplace=True)\n",
    "    features_df['make_bmw'] = df['make'].apply(lambda x: 1 if x == 'bmw' else 0)\n",
    "    target_ser = df['price']\n",
    "    return features_df, target_ser"
   ]
  },
  {
   "cell_type": "code",
   "execution_count": 3,
   "metadata": {},
   "outputs": [],
   "source": [
    "df = pd.read_csv('Auto1-DS-TestData.csv', na_values=['?'])\n",
    "X, y = preprocess(df)"
   ]
  },
  {
   "cell_type": "markdown",
   "metadata": {},
   "source": [
    "### Split into training and test sets"
   ]
  },
  {
   "cell_type": "code",
   "execution_count": 4,
   "metadata": {},
   "outputs": [],
   "source": [
    "X_train, X_test, y_train, y_test = train_test_split(X, y, random_state=42)"
   ]
  },
  {
   "cell_type": "markdown",
   "metadata": {},
   "source": [
    "### Ridge Regression"
   ]
  },
  {
   "cell_type": "code",
   "execution_count": 5,
   "metadata": {},
   "outputs": [
    {
     "name": "stdout",
     "output_type": "stream",
     "text": [
      "Fitting 5 folds for each of 10 candidates, totalling 50 fits\n",
      "0.8748974765235651\n",
      "0.8085186941663377\n",
      "0.8234390768609023\n",
      "{'polynomial_features__degree': 2, 'regressor__alpha': 100.0}\n"
     ]
    },
    {
     "name": "stderr",
     "output_type": "stream",
     "text": [
      "[Parallel(n_jobs=-1)]: Done  50 out of  50 | elapsed:    0.7s finished\n"
     ]
    }
   ],
   "source": [
    "pipe = Pipeline(steps=[\n",
    "    ('polynomial_features', PolynomialFeatures()),\n",
    "    ('scaler', StandardScaler()),\n",
    "    ('regressor', Ridge())\n",
    "])\n",
    "param_grid = {\n",
    "    'polynomial_features__degree': [2],\n",
    "    'regressor__alpha': np.logspace(2, 3, 10)\n",
    "\n",
    "}\n",
    "model = GridSearchCV(pipe, param_grid, n_jobs=-1, cv=5, verbose=1)\n",
    "model.fit(X_train, y_train)\n",
    "print(model.score(X_train, y_train))\n",
    "print(model.best_score_)\n",
    "print(model.score(X_test, y_test))\n",
    "print(model.best_params_)"
   ]
  },
  {
   "cell_type": "markdown",
   "metadata": {},
   "source": [
    "### Support Vector Machine"
   ]
  },
  {
   "cell_type": "code",
   "execution_count": 6,
   "metadata": {},
   "outputs": [
    {
     "name": "stdout",
     "output_type": "stream",
     "text": [
      "Fitting 5 folds for each of 20 candidates, totalling 100 fits\n",
      "0.5351661113420898\n",
      "0.4969566583275798\n",
      "0.3520884176022876\n",
      "{'regressor__C': 1000.0, 'regressor__degree': 2, 'regressor__kernel': 'rbf'}\n"
     ]
    },
    {
     "name": "stderr",
     "output_type": "stream",
     "text": [
      "[Parallel(n_jobs=-1)]: Done 100 out of 100 | elapsed:    0.1s finished\n"
     ]
    }
   ],
   "source": [
    "pipe = Pipeline(steps=[\n",
    "    ('scaler', StandardScaler()),\n",
    "    ('regressor', SVR())\n",
    "])\n",
    "param_grid = {\n",
    "    'regressor__kernel': ['rbf', 'poly'],\n",
    "    'regressor__degree': [2],\n",
    "    'regressor__C': np.logspace(-3, 3, 10)\n",
    "\n",
    "}\n",
    "model = GridSearchCV(pipe, param_grid, n_jobs=-1, cv=5, verbose=1)\n",
    "model.fit(X_train, y_train)\n",
    "print(model.score(X_train, y_train))\n",
    "print(model.best_score_)\n",
    "print(model.score(X_test, y_test))\n",
    "print(model.best_params_)"
   ]
  },
  {
   "cell_type": "markdown",
   "metadata": {},
   "source": [
    "### Random Forest"
   ]
  },
  {
   "cell_type": "code",
   "execution_count": 7,
   "metadata": {},
   "outputs": [
    {
     "name": "stdout",
     "output_type": "stream",
     "text": [
      "Fitting 5 folds for each of 5 candidates, totalling 25 fits\n"
     ]
    },
    {
     "name": "stderr",
     "output_type": "stream",
     "text": [
      "[Parallel(n_jobs=-1)]: Done  25 out of  25 | elapsed:    1.9s finished\n"
     ]
    },
    {
     "name": "stdout",
     "output_type": "stream",
     "text": [
      "0.9681720286267168\n",
      "0.8366349745119124\n",
      "0.9098164830482945\n",
      "{'polynomial_features__degree': 2, 'regressor__max_depth': 5, 'regressor__n_estimators': 200}\n"
     ]
    }
   ],
   "source": [
    "pipe = Pipeline(steps=[\n",
    "    ('polynomial_features', PolynomialFeatures()),\n",
    "    ('regressor', RandomForestRegressor())\n",
    "])\n",
    "param_grid = {\n",
    "    'polynomial_features__degree': [2],\n",
    "    'regressor__n_estimators': [200],\n",
    "    'regressor__max_depth': np.arange(1, 6)\n",
    "\n",
    "}\n",
    "model = GridSearchCV(pipe, param_grid, n_jobs=-1, cv=5, verbose=1)\n",
    "model.fit(X_train, y_train)\n",
    "print(model.score(X_train, y_train))\n",
    "print(model.best_score_)\n",
    "print(model.score(X_test, y_test))\n",
    "print(model.best_params_)"
   ]
  },
  {
   "cell_type": "markdown",
   "metadata": {},
   "source": [
    "### Gradient Boosted Trees"
   ]
  },
  {
   "cell_type": "code",
   "execution_count": 8,
   "metadata": {},
   "outputs": [
    {
     "name": "stdout",
     "output_type": "stream",
     "text": [
      "Fitting 5 folds for each of 50 candidates, totalling 250 fits\n"
     ]
    },
    {
     "name": "stderr",
     "output_type": "stream",
     "text": [
      "[Parallel(n_jobs=-1)]: Done  36 tasks      | elapsed:    0.8s\n"
     ]
    },
    {
     "name": "stdout",
     "output_type": "stream",
     "text": [
      "0.9853375053922139\n",
      "0.8517978549097149\n",
      "0.943920560702983\n",
      "{'polynomial_features__degree': 2, 'regressor__learning_rate': 0.1, 'regressor__max_depth': 2, 'regressor__n_estimators': 100}\n"
     ]
    },
    {
     "name": "stderr",
     "output_type": "stream",
     "text": [
      "[Parallel(n_jobs=-1)]: Done 250 out of 250 | elapsed:    2.9s finished\n"
     ]
    }
   ],
   "source": [
    "pipe = Pipeline(steps=[\n",
    "    ('polynomial_features', PolynomialFeatures()),\n",
    "    ('regressor', XGBRegressor())\n",
    "])\n",
    "param_grid = {\n",
    "    'polynomial_features__degree': [2],\n",
    "    'regressor__n_estimators': [100],\n",
    "    'regressor__max_depth': np.arange(1, 6),\n",
    "    'regressor__learning_rate': np.logspace(-3, -1, 10)\n",
    "}\n",
    "model = GridSearchCV(pipe, param_grid, n_jobs=-1, cv=5, verbose=1)\n",
    "model.fit(X_train, y_train)\n",
    "print(model.score(X_train, y_train))\n",
    "print(model.best_score_)\n",
    "print(model.score(X_test, y_test))\n",
    "print(model.best_params_)"
   ]
  },
  {
   "cell_type": "markdown",
   "metadata": {},
   "source": [
    "### Model Tuning to reduce overfitting"
   ]
  },
  {
   "cell_type": "code",
   "execution_count": 12,
   "metadata": {},
   "outputs": [
    {
     "name": "stdout",
     "output_type": "stream",
     "text": [
      "Fitting 5 folds for each of 20 candidates, totalling 100 fits\n"
     ]
    },
    {
     "name": "stderr",
     "output_type": "stream",
     "text": [
      "[Parallel(n_jobs=-1)]: Done  26 tasks      | elapsed:    1.2s\n"
     ]
    },
    {
     "name": "stdout",
     "output_type": "stream",
     "text": [
      "0.9528275179876677\n",
      "0.8392798679625612\n",
      "0.8903113641600432\n",
      "{'pca__n_components': 0.9, 'polynomial_features__degree': 2, 'regressor__learning_rate': 0.03593813663804626, 'regressor__max_depth': 2, 'regressor__n_estimators': 200}\n"
     ]
    },
    {
     "name": "stderr",
     "output_type": "stream",
     "text": [
      "[Parallel(n_jobs=-1)]: Done 100 out of 100 | elapsed:    3.9s finished\n"
     ]
    }
   ],
   "source": [
    "pipe = Pipeline(steps=[\n",
    "    ('polynomial_features', PolynomialFeatures()),\n",
    "    ('scaler', StandardScaler()),\n",
    "    ('pca', PCA()),\n",
    "    ('regressor', XGBRegressor())\n",
    "])\n",
    "param_grid = {\n",
    "    'polynomial_features__degree': [2],\n",
    "    'pca__n_components': [0.9],\n",
    "    'regressor__n_estimators': [200],\n",
    "    'regressor__max_depth': np.arange(1, 3),\n",
    "    'regressor__learning_rate': np.logspace(-3, -1, 10)\n",
    "}\n",
    "model = GridSearchCV(pipe, param_grid, n_jobs=-1, cv=5, verbose=1)\n",
    "model.fit(X_train, y_train)\n",
    "print(model.score(X_train, y_train))\n",
    "print(model.best_score_)\n",
    "print(model.score(X_test, y_test))\n",
    "print(model.best_params_)"
   ]
  },
  {
   "cell_type": "code",
   "execution_count": null,
   "metadata": {},
   "outputs": [],
   "source": []
  }
 ],
 "metadata": {
  "kernelspec": {
   "display_name": "Python 3",
   "language": "python",
   "name": "python3"
  },
  "language_info": {
   "codemirror_mode": {
    "name": "ipython",
    "version": 3
   },
   "file_extension": ".py",
   "mimetype": "text/x-python",
   "name": "python",
   "nbconvert_exporter": "python",
   "pygments_lexer": "ipython3",
   "version": "3.6.6"
  }
 },
 "nbformat": 4,
 "nbformat_minor": 2
}
